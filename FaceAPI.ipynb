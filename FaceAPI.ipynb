{
 "cells": [
  {
   "cell_type": "code",
   "execution_count": 89,
   "metadata": {},
   "outputs": [],
   "source": [
    "import requests\n",
    "# If you are using a Jupyter notebook, uncomment the following line.\n",
    "%matplotlib inline\n",
    "import matplotlib.pyplot as plt\n",
    "from PIL import Image\n",
    "from matplotlib import patches\n",
    "from io import BytesIO\n",
    "import json\n",
    "\n",
    "\n",
    "import http.client, urllib.request, urllib.parse, urllib.error, base64"
   ]
  },
  {
   "cell_type": "code",
   "execution_count": 46,
   "metadata": {},
   "outputs": [],
   "source": [
    "# Define General Global Variables\n",
    "GROUP_NAME = \"hackathon_atl\"\n",
    "\n",
    "# Define Face-API Specific Global Variables\n",
    "FACE_API_KEY1 = \"2d697fcd49e34ceaacce26f321034221\"\n",
    "FACE_API_URL = 'https://eastus2.api.cognitive.microsoft.com/face/v1.0'\n",
    "HEADERS = {\n",
    "    'Ocp-Apim-Subscription-Key': FACE_API_KEY1,\n",
    "    'Content-Type': 'application/octet-stream'\n",
    "}\n",
    "PARAMS = {\n",
    "    'returnFaceId': 'true',\n",
    "    'returnFaceLandmarks': 'true',\n",
    "    'returnFaceAttributes': 'age,gender,headPose,smile,facialHair,glasses,' +\n",
    "    'emotion,hair,makeup,occlusion,accessories,blur,exposure,noise'\n",
    "}"
   ]
  },
  {
   "cell_type": "markdown",
   "metadata": {},
   "source": [
    "# 1. Create the Person Group"
   ]
  },
  {
   "cell_type": "code",
   "execution_count": 23,
   "metadata": {},
   "outputs": [],
   "source": [
    "def createPersonGroup():\n",
    "    HEADERS = {\n",
    "        'Content-Type': 'application/json',\n",
    "        'Ocp-Apim-Subscription-Key': FACE_API_KEY1,\n",
    "    }\n",
    "    PARAMS = urllib.parse.urlencode({\n",
    "        'personGroupId': GROUP_NAME\n",
    "    })\n",
    "    BODY = '{\"name\": \"%s\"}' % GROUP_NAME\n",
    "\n",
    "    try:\n",
    "        conn = http.client.HTTPSConnection('eastus2.api.cognitive.microsoft.com')\n",
    "        conn.request(\"PUT\", \"/face/v1.0/persongroups/{%s}?%s\" % (GROUP_NAME, PARAMS), \"%s\" % (BODY), HEADERS)\n",
    "        response = conn.getresponse()\n",
    "        data = response.read()\n",
    "        print(data)\n",
    "        conn.close()\n",
    "    except Exception as e:\n",
    "        print(\"[Errno {0}] {1}\".format(e.errno, e.strerror))"
   ]
  },
  {
   "cell_type": "markdown",
   "metadata": {},
   "source": [
    "# 2. Insert People into Person Group"
   ]
  },
  {
   "cell_type": "code",
   "execution_count": 55,
   "metadata": {},
   "outputs": [
    {
     "name": "stdout",
     "output_type": "stream",
     "text": [
      "b'{\"personId\":\"8fb4eda3-de46-45b6-8818-8b1aa8329ecb\"}'\n"
     ]
    },
    {
     "data": {
      "text/plain": [
       "b'{\"personId\":\"8fb4eda3-de46-45b6-8818-8b1aa8329ecb\"}'"
      ]
     },
     "execution_count": 55,
     "metadata": {},
     "output_type": "execute_result"
    }
   ],
   "source": [
    "def insertPersonIntoGroup(person_name, group_name):\n",
    "    HEADERS = {\n",
    "        'Content-Type': 'application/json',\n",
    "        'Ocp-Apim-Subscription-Key': FACE_API_KEY1,\n",
    "    }\n",
    "    \n",
    "    PARAMS = urllib.parse.urlencode({\n",
    "        'personGroupId': group_name\n",
    "    })\n",
    "    \n",
    "    BODY = '{\"name\":\"%s\"}' % (person_name)\n",
    "    \n",
    "    try:\n",
    "        conn = http.client.HTTPSConnection('eastus2.api.cognitive.microsoft.com')\n",
    "        conn.request(\"POST\", \"/face/v1.0/persongroups/{%s}/persons?%s\" % (group_name, PARAMS), \"%s\" % (BODY), HEADERS)\n",
    "        response = conn.getresponse()\n",
    "        data = response.read()\n",
    "        print(data)\n",
    "        conn.close()\n",
    "        return data\n",
    "    except Exception as e:\n",
    "        print(\"[Errno {0}] {1}\".format(e.errno, e.strerror))\n",
    "    return None\n",
    "    \n",
    "insertPersonIntoGroup(\"Obama\", GROUP_NAME)"
   ]
  },
  {
   "cell_type": "markdown",
   "metadata": {},
   "source": [
    "# 3. Submit Images to Train Face On"
   ]
  },
  {
   "cell_type": "code",
   "execution_count": 56,
   "metadata": {},
   "outputs": [
    {
     "data": {
      "text/plain": [
       "'b\\'$R\\\\x05\\\\x13\\\\x18\\\\x9f \\\\x88\\\\x82jz\\\\\\'\\\\t\\\\xa9\\\\xe8\\\\x9cC\\\\x92\\\\xd45\\\\xc2\\\\x85\\\\xeb\\\\\\'\\\\xa2\\\\xdfHu\\\\xd1\\\\x9d\\\\xdb\\\\xe2\\\\xbd\\\\xd3m6\\\\xdfN\\\\x85\\\\xe7\\\\xaez\\\\xd3]4<\\\\xd5t\\\\xd7ix\\\\xe7m5\\\\xef]\\\\xb4\\\\xdb_t\\\\xeb\\\\x9dv\\\\xd3^\\\\xf5\\\\xdbM\\\\xb5\\\\xf7N\\\\xb9\\\\xd6\\\\x07\\\\x9d\\\\xd7_7\\\\xd3_4\\\\xd3M8\\\\xf0Q\\\\x05\\\\xefM\\\\xb4\\\\xd2i\\\\x9f\\\\xffo\\\\x0b!\"\\\\x08Q#4\\\\xd3M\\\\x1c\\\\xd9\\\\xd7\\\\xf5\\\\xdd\\\\x1d7\\\\xd3]4\\\\x04\\\\x91\\\\xc7\\\\x01\\\\xda\\\\x1bx#\\\\x00v\\\\x86\\\\xdev-\\\\xf5\\\\x01\\\\x06\\\\xaa\\\\xd8\\\\x14[\\\\xdf\\\\x8a\\\\xc2I\\\\xcb9\\\\r7D\\\\xb7\\\\xa5\\\\x1e\\\\xb8U_\\\\xbf\\\\xb1\\\\x96\\\\x83\\\\x0eu\\\\x01\\\\x06\\\\xaa\\\\xd8\\\\x14wn\\\\xb0\\\\x92r\\\\xce9\\\\r7DS\\\\xab^\\\\xb8U_\\\\xbf\\\\xb1\\\\x96\\\\x83\\\\x02ma\\\\xdd\\\\xf7mo\\\\xf2\\\\xbf\\\\x92\\\\xa8#\\\\xa4\\\\xa9\\\\r\\\\x7f\\\\xbc~\\\\xed&\\\\xe2W6\\\\xcf\\\\xbc&\\\\xba\\\\xfe\\\\x1c\\\\x1aA\\\\x15 tM\\\\x1c\\\\x84\\\\xc3l\\\\xb38\\\\x9c.\\\\xccr\\\\x833\\\\xc50\\\\xe7\\\\xc1\\\\xce\\\\xff\\\\n\\\\x1b\\\\\\\\\\\\xa1\\\\x8e\\\\x02#\\\\x0b\\\\x80jF\\\\x15\\\\xd4\\\\xa0\\\\x99\\\\x0c\\\\x064\\\\xde\\\\xc0\\\\xe7\\\\x8e\\\\xf2\\\\x85\\\\xf0>\\\\xbe\\\\x8a\\\\x0b\\\\x94\\\\xb97\"\\\\x88j\\''"
      ]
     },
     "execution_count": 56,
     "metadata": {},
     "output_type": "execute_result"
    }
   ],
   "source": [
    "Obama_ID = \"f9a6fb5d-2c81-40c0-9cb0-e9980d62371c\"\n",
    "\n",
    "#import os\n",
    "#for filename in os.listdir('.\\\\Obama'):\n",
    "#    print(filename)\n",
    "\n",
    "image_data = open(\".\\\\Obama\\\\barack-obama.jpeg\", \"rb\").read()\n",
    "str_data = str(base64.b64decode(image_data))\n",
    "str_data"
   ]
  },
  {
   "cell_type": "code",
   "execution_count": 70,
   "metadata": {},
   "outputs": [
    {
     "name": "stdout",
     "output_type": "stream",
     "text": [
      "{'persistedFaceId': '00ea2201-46c3-4a28-a74a-7363c50c5e1d'}\n",
      "{'persistedFaceId': '7c81112f-6c1a-4989-93c5-b2a6c4fec009'}\n",
      "{'persistedFaceId': '5143e16c-caf9-40a1-8b21-a0a9a78dbb9f'}\n",
      "{'persistedFaceId': 'ef43e17a-85b0-49ac-a8da-ee32bb0ad2cd'}\n"
     ]
    }
   ],
   "source": [
    "def submitPersonImages(person_id, image_data):\n",
    "    # Declare header data\n",
    "    headers = {\n",
    "        # Request headers\n",
    "        'Content-Type': 'application/octet-stream',\n",
    "        'Ocp-Apim-Subscription-Key': FACE_API_KEY1,\n",
    "    }\n",
    "    \n",
    "    # Obtain full URL Path\n",
    "    path = FACE_API_URL + \"/persongroups/%s/persons/%s/persistedFaces\" % (GROUP_NAME, person_id)\n",
    "    \n",
    "    try:\n",
    "        response = requests.post(path, headers=headers, data=image_data)\n",
    "        faces = response.json()\n",
    "        print(faces)\n",
    "    except Exception as e:\n",
    "        print(\"[Errno {0}] {1}\".format(e.errno, e.strerror))\n",
    "    \n",
    "# Loop through Obama picture directory.\n",
    "img_path = './Obama/'\n",
    "for filename in os.listdir(img_path):\n",
    "    if filename.endswith('.jpg') or filename.endswith('.jpeg'):\n",
    "        image_data = open(img_path + filename, \"rb\").read()\n",
    "        submitPersonImages(Obama_ID, image_data)\n",
    "        "
   ]
  },
  {
   "cell_type": "markdown",
   "metadata": {},
   "source": [
    "# 4. Train Person Group"
   ]
  },
  {
   "cell_type": "code",
   "execution_count": 78,
   "metadata": {},
   "outputs": [],
   "source": [
    "def function():\n",
    "    return\n",
    "function()"
   ]
  },
  {
   "cell_type": "code",
   "execution_count": 84,
   "metadata": {},
   "outputs": [
    {
     "name": "stdout",
     "output_type": "stream",
     "text": [
      "b''\n"
     ]
    }
   ],
   "source": [
    "def trainPersonGroup():   \n",
    "    headers = {\n",
    "        # Request headers\n",
    "        'Ocp-Apim-Subscription-Key': FACE_API_KEY1,\n",
    "    }\n",
    "\n",
    "    try:\n",
    "        conn = http.client.HTTPSConnection('eastus2.api.cognitive.microsoft.com')\n",
    "        conn.request(\"POST\", \"/face/v1.0/persongroups/%s/train\" % (GROUP_NAME), \"{body}\", headers)\n",
    "        response = conn.getresponse()\n",
    "        data = response.read()\n",
    "        print(data)\n",
    "        conn.close()\n",
    "    except Exception as e:\n",
    "        print(\"[Errno {0}] {1}\".format(e.errno, e.strerror))\n",
    "    return\n",
    "        \n",
    "trainPersonGroup()"
   ]
  },
  {
   "cell_type": "code",
   "execution_count": null,
   "metadata": {},
   "outputs": [],
   "source": []
  },
  {
   "cell_type": "markdown",
   "metadata": {},
   "source": [
    "# 5. Identify Obama"
   ]
  },
  {
   "cell_type": "code",
   "execution_count": 98,
   "metadata": {},
   "outputs": [],
   "source": [
    "def detectFace(image_data):\n",
    "    # Declare header data\n",
    "    headers = {\n",
    "        # Request headers\n",
    "        'Content-Type': 'application/octet-stream',\n",
    "        'Ocp-Apim-Subscription-Key': FACE_API_KEY1,\n",
    "    }\n",
    "   #detect[?returnFaceId][&returnFaceLandmarks][&returnFaceAttributes]\n",
    "    params = ({\n",
    "        # Request parameters\n",
    "        'returnFaceId': 'true',\n",
    "        'returnFaceLandmarks': 'false',\n",
    "        'returnFaceAttributes': 'emotion',\n",
    "    })\n",
    "    \n",
    "    path = FACE_API_URL + '/detect'\n",
    "    \n",
    "    try:\n",
    "        response = requests.post(path, headers=headers, params=params, data=image_data)\n",
    "        faces = response.json()\n",
    "        #print(faces)\n",
    "        return faces\n",
    "    except Exception as e:\n",
    "        print(\"[Errno {0}] {1}\".format(e.errno, e.strerror))\n",
    "    return None"
   ]
  },
  {
   "cell_type": "code",
   "execution_count": 99,
   "metadata": {},
   "outputs": [],
   "source": [
    "def identifyPerson(face_id):\n",
    "    # Declare header data\n",
    "    headers = {\n",
    "        # Request headers\n",
    "        'Content-Type': 'application/json',\n",
    "        'Ocp-Apim-Subscription-Key': FACE_API_KEY1,\n",
    "    }\n",
    "    \n",
    "    body = {\n",
    "        \"personGroupId\": GROUP_NAME,\n",
    "        \"faceIds\": [face_id],\n",
    "        \"maxNumOfCandidatesReturned\": 1,\n",
    "        \"confidenceThreshold\": 0.5\n",
    "    }\n",
    "    \n",
    "    # Obtain full URL Path\n",
    "    path = FACE_API_URL + \"/identify\"\n",
    "    \n",
    "    try:\n",
    "        response = requests.post(path, headers=headers, data=json.dumps(body))\n",
    "        faces = response.json()\n",
    "        #print(faces)\n",
    "    except Exception as e:\n",
    "        print(\"[Errno {0}] {1}\".format(e.errno, e.strerror))"
   ]
  },
  {
   "cell_type": "code",
   "execution_count": 100,
   "metadata": {},
   "outputs": [
    {
     "name": "stdout",
     "output_type": "stream",
     "text": [
      "([{'faceId': 'e68724b2-aae9-4ae6-b71e-bb71df6af517', 'faceRectangle': {'top': 56, 'left': 29, 'width': 103, 'height': 103}, 'faceAttributes': {'emotion': {'anger': 0.0, 'contempt': 0.0, 'disgust': 0.0, 'fear': 0.0, 'happiness': 1.0, 'neutral': 0.0, 'sadness': 0.0, 'surprise': 0.0}}}], None)\n",
      "([{'faceId': 'fc85ce0a-8204-4293-8470-323fef1bde55', 'faceRectangle': {'top': 247, 'left': 462, 'width': 508, 'height': 508}, 'faceAttributes': {'emotion': {'anger': 0.0, 'contempt': 0.001, 'disgust': 0.0, 'fear': 0.0, 'happiness': 0.333, 'neutral': 0.666, 'sadness': 0.0, 'surprise': 0.0}}}], None)\n",
      "([{'faceId': '11d13d47-6b41-43c2-b0f8-61090023de6f', 'faceRectangle': {'top': 287, 'left': 513, 'width': 455, 'height': 455}, 'faceAttributes': {'emotion': {'anger': 0.0, 'contempt': 0.001, 'disgust': 0.0, 'fear': 0.0, 'happiness': 0.656, 'neutral': 0.343, 'sadness': 0.0, 'surprise': 0.0}}}], None)\n",
      "([{'faceId': '77596fd2-75ad-45ad-813b-6f5260ea4d7a', 'faceRectangle': {'top': 89, 'left': 219, 'width': 194, 'height': 194}, 'faceAttributes': {'emotion': {'anger': 0.002, 'contempt': 0.001, 'disgust': 0.001, 'fear': 0.0, 'happiness': 0.026, 'neutral': 0.457, 'sadness': 0.0, 'surprise': 0.514}}}], None)\n"
     ]
    }
   ],
   "source": [
    "def getFaceIdentification(image):\n",
    "    image_data = open(image, \"rb\").read()\n",
    "    face_detection = detectFace(image_data)\n",
    "    face_identity = identifyPerson(face_detection[0]['faceId'])\n",
    "    return face_detection, face_identity\n",
    "    \n",
    "# Loop through Obama picture directory.\n",
    "img_path = './Obama/'\n",
    "for filename in os.listdir(img_path):\n",
    "    if filename.endswith('.jpg') or filename.endswith('.jpeg'):\n",
    "        print(getFaceIdentification(img_path + filename))"
   ]
  },
  {
   "cell_type": "code",
   "execution_count": null,
   "metadata": {},
   "outputs": [],
   "source": []
  },
  {
   "cell_type": "code",
   "execution_count": null,
   "metadata": {},
   "outputs": [],
   "source": []
  },
  {
   "cell_type": "code",
   "execution_count": null,
   "metadata": {},
   "outputs": [],
   "source": []
  },
  {
   "cell_type": "code",
   "execution_count": null,
   "metadata": {},
   "outputs": [],
   "source": [
    "#image_folder_path = \"C:\\\\hackathon\\\\voicepassword\\\\IMG_0909\\\\IMG_0909_012.jpg\"\n",
    "#image_data = open(image_path, \"rb\").read()"
   ]
  }
 ],
 "metadata": {
  "kernelspec": {
   "display_name": "Python [conda env:Anaconda]",
   "language": "python",
   "name": "conda-env-Anaconda-py"
  },
  "language_info": {
   "codemirror_mode": {
    "name": "ipython",
    "version": 3
   },
   "file_extension": ".py",
   "mimetype": "text/x-python",
   "name": "python",
   "nbconvert_exporter": "python",
   "pygments_lexer": "ipython3",
   "version": "3.6.5"
  }
 },
 "nbformat": 4,
 "nbformat_minor": 2
}
