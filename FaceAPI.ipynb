{
 "cells": [
  {
   "cell_type": "code",
   "execution_count": 1,
   "metadata": {},
   "outputs": [],
   "source": [
    "import requests\n",
    "# If you are using a Jupyter notebook, uncomment the following line.\n",
    "%matplotlib inline\n",
    "import matplotlib.pyplot as plt\n",
    "from PIL import Image\n",
    "from matplotlib import patches\n",
    "from io import BytesIO\n",
    "import json\n",
    "\n",
    "\n",
    "import http.client, urllib.request, urllib.parse, urllib.error, base64"
   ]
  },
  {
   "cell_type": "code",
   "execution_count": 2,
   "metadata": {},
   "outputs": [],
   "source": [
    "# Define General Global Variables\n",
    "GROUP_NAME = \"hackathon_atl\"\n",
    "\n",
    "# Define Face-API Specific Global Variables\n",
    "FACE_API_KEY1 = \"2d697fcd49e34ceaacce26f321034221\"\n",
    "FACE_API_URL = 'https://eastus2.api.cognitive.microsoft.com/face/v1.0'\n",
    "HEADERS = {\n",
    "    'Ocp-Apim-Subscription-Key': FACE_API_KEY1,\n",
    "    'Content-Type': 'application/octet-stream'\n",
    "}\n",
    "PARAMS = {\n",
    "    'returnFaceId': 'true',\n",
    "    'returnFaceLandmarks': 'true',\n",
    "    'returnFaceAttributes': 'age,gender,headPose,smile,facialHair,glasses,' +\n",
    "    'emotion,hair,makeup,occlusion,accessories,blur,exposure,noise'\n",
    "}"
   ]
  },
  {
   "cell_type": "markdown",
   "metadata": {},
   "source": [
    "# 1. Create the Person Group"
   ]
  },
  {
   "cell_type": "code",
   "execution_count": 3,
   "metadata": {},
   "outputs": [],
   "source": [
    "def createPersonGroup():\n",
    "    PARAMS = urllib.parse.urlencode({\n",
    "        'personGroupId': GROUP_NAME\n",
    "    })\n",
    "    BODY = '{\"name\": \"%s\"}' % GROUP_NAME\n",
    "\n",
    "    try:\n",
    "        conn = http.client.HTTPSConnection('eastus2.api.cognitive.microsoft.com')\n",
    "        conn.request(\"PUT\", \"/face/v1.0/persongroups/{%s}?%s\" % (GROUP_NAME, PARAMS), \"%s\" % (BODY), HEADERS)\n",
    "        response = conn.getresponse()\n",
    "        data = response.read()\n",
    "        print(data)\n",
    "        conn.close()\n",
    "    except Exception as e:\n",
    "        print(\"[Errno {0}] {1}\".format(e.errno, e.strerror))"
   ]
  },
  {
   "cell_type": "markdown",
   "metadata": {},
   "source": [
    "# 2. Insert People into Person Group"
   ]
  },
  {
   "cell_type": "code",
   "execution_count": 4,
   "metadata": {},
   "outputs": [
    {
     "name": "stdout",
     "output_type": "stream",
     "text": [
      "b'{\"personId\":\"8c6da2d7-5929-4b4b-873b-fa7fa6f595f2\"}'\n"
     ]
    },
    {
     "data": {
      "text/plain": [
       "b'{\"personId\":\"8c6da2d7-5929-4b4b-873b-fa7fa6f595f2\"}'"
      ]
     },
     "execution_count": 4,
     "metadata": {},
     "output_type": "execute_result"
    }
   ],
   "source": [
    "def insertPersonIntoGroup(person_name, group_name):\n",
    "    HEADERS = {\n",
    "        'Content-Type': 'application/json',\n",
    "        'Ocp-Apim-Subscription-Key': FACE_API_KEY1,\n",
    "    }\n",
    "    \n",
    "    PARAMS = urllib.parse.urlencode({\n",
    "        'personGroupId': group_name\n",
    "    })\n",
    "    \n",
    "    BODY = '{\"name\":\"%s\"}' % (person_name)\n",
    "    \n",
    "    try:\n",
    "        conn = http.client.HTTPSConnection('eastus2.api.cognitive.microsoft.com')\n",
    "        conn.request(\"POST\", \"/face/v1.0/persongroups/{%s}/persons?%s\" % (group_name, PARAMS), \"%s\" % (BODY), HEADERS)\n",
    "        response = conn.getresponse()\n",
    "        data = response.read()\n",
    "        print(data)\n",
    "        conn.close()\n",
    "        return data\n",
    "    except Exception as e:\n",
    "        print(\"[Errno {0}] {1}\".format(e.errno, e.strerror))\n",
    "    return None\n",
    "    \n",
    "insertPersonIntoGroup(\"Obama\", GROUP_NAME)"
   ]
  },
  {
   "cell_type": "markdown",
   "metadata": {},
   "source": [
    "# 3. Submit Images to Train Face On"
   ]
  },
  {
   "cell_type": "code",
   "execution_count": 8,
   "metadata": {},
   "outputs": [
    {
     "data": {
      "text/plain": [
       "'b\\'$R\\\\x05-\\\\xab\\\\xdc\\\\xe7\\\\xcd|\\\\xd7M\\\\x02\\\\xfb\\\\xed\\\\xf5\\\\x01\\\\n\\\\x9a\\\\xd9\\\\x1a\\\\xdb\\\\x07p\\\\x92\\\\xe3\\\\x9b-Om@A\\\\xaa\\\\xa1X\\\\x1d\\\\x00\\\\xac&\\\\xad\\\\xb7\\\\x8bE\\\\xf3\\\\xd3\\\\xd0\\\\x10hVX8E\\\\x17F\\\\xb4\\\\xae\\\\xd0-X\\\\x10t\\\\xb4F\\\\xad\\\\x0b0\\\\xf4\\\\xc9\\\\xcc\\\\xc0\\\\xd2\\\\xb5\\\\xc4@*\\\\x83:_V\\\\x0c\\\\xed\\\\x04\\\\x08\\\\x10\\\\xf5\\\\x10v\\\\xe6\\\\t\\\\xe3\\\\xf4>e\\\\x8a\\\\x91\\\\xb7\\\\x0b+1\\\\xccw\\\\x17]\\\\xd0Nw\\\\x1c%\\\\xf6\\\\x0bn\\\\x1fu\\\\xb7\\\\x8bo\\\\x80\\\\xe1\\\\xd8\\\\x8dB\\\\x1c\\\\x8e\\\\xf5+o\\\\xc9D\\\\x80\\\\xa2\\\\xd9\\\\x12\\\\x9b\\\\xcf\\\\\\'\\\\x0b\\\\xbbC\\\\xe6\\\\x9a\\\\xf9\\\\x9c\\\\x8a\\\\xe5\\\\xa7\\\\xeb\\\\xa8\\\\xb3\\\\xae\\\\x9a\\\\xdc\\\\xa8e\\\\xde\\\\x8c&@\\\\x0fTaG}\\\\xc5t0\\\\xf6\\\\x11\\\\xd0\\\\xc73\\\\x81{\\\\xdd\\\\xde=[\\\\xdc\\\\xd9\\\\xa9\\\\xe7\\\\xd1\\\\x1a\\\\xcaH\\\\x80\\\\tc\\\\x98\\\\xb6\\\\xc8Y\\\\xf2\\\\r\\\\x1bZ\\\\xa45\\\\xda{~\\\\xb3\\\\xb6\\\\xcf\\\\xbd\\\\xcf\\\\xc8\\\\xa4\\\\xff\\\\x7f\\\\xda\\\\x9d\\\\xa6(\\\\xb7\\\\xd3]7\\\\xe1\\\\xf2\\\\xcf\\\\xd8\\\\x0e6CXI\\\\x9a\\\\xc1\\\\xbbB|\\\\xa4?I$\\\\xddoY\\\\xac\\\\xad\\\\xabV\\\\x07\\\\xee=\\\\x8b(\\\\xfeR\\\\xaeNF\\\\x03\\\\t\\\\x89\\\\x9b\\\\xd3yH\\\\x0c\\\\x8e\\\\xb6\\\\x1c0\\\\xd3\\\\xd9\\\\t\\\\x8a\\\\x06\\\\x1b\\\\x0c\\\\x19\\\\xc7%\\\\x99\\\\\\'\\\\xf5B\\\\xe6\\\\x18\\\\x92\\\\xd5\\\\xa5\\\\\\'b\\\\x94v\\\\x02K\\\\xf6k\\\\xff64j\\\\xc2uR\\\\xce\\\\xeb0QuME\\\\xb6h\\\\xd5\\\\x0c\\\\x12\\\\xcf\\\\xd5+V\\\\x1d\\\\xb6\\\\x98\\\\x17B\\\\xdf\\\\x87\\\\xde\\\\xdcz5\\\\xd7\\\\xa7\\\\xcb\\\\\\\\- \\\\xda\\\\xe4&\\\\xc7\\\\xdc\\\\xbb)\\\\xbbN\\\\x9cm=\\\\xaf\\\\xa0\\\\x8ej*\\\\xd5\\\\xae\\\\\\\\\\\\x86\\\\xf4\\\\xe2o6\\\\xbf\\\\xbbGx\\\\xf3R\\\\xc2\\\\xd1\\\\xaa5o\\\\xf7\\\\xffo\\\\xd0\\\\x88^\\\\xfb\\\\xd5\\\\x043\\\\xd9W\\\\xe9 \\\\xce\\\\xfe\\\\xed\\\\x9c\\\\xe1b\\\\xbdf\\\\x05\\\\xedF\\\\xa9\\\\xcb*\\\\xf4\\\\x8a\\\\xcc\\\\xd4Zm\\\\x0f&vp\\\\xa6l\\\\xd2\\\\xff\\\\xf1p\\\\xfd\"\\\\xb9@\\\\x96\\\\xcd\\\\xfe\\\\x81\\\\\\\\<\\\\xd4\\\\xf9v\\\\x07\\\\x91\\\\xe2xlw\\\\r\\\\xd6\\\\xf7/M\\\\xf3\\\\xf8`\\\\x98\\\\xe5\\\\xe8-_=\\\\xa4B/W\\\\x1e1\\\\x14/[\\\\xa0TY\\\\xde\\\\xe9\\\\xc6\\\\xc8w;\\\\x11\\\\xed,)k3\\\\xa5yf:\\\\x11\\\\xd5\\\\xcc\\\\xcb.\\\\x17s\\\\xd0\\\\x88\\\\xb7,\\\\x96e\\\\x92&\\\\x8a\\\\xe9d\\\\xa7\\\\x1f\\\\xa6r,\\\\xbf\\\\xbb4\\\\x1b\\\\x07Q\\\\xd4$7\\\\xd9%\\\\xddPfR7\\\\x1fy\\\\xdf\\\\xdd\\\\xdcb\\\\xf1\\\\x8a.\\\\xbc\\\\xb3\\\\x9c\\\\x1b?N\\\\xeb\\\\x1eo\\\\xaa\\\\xc1\\\\xa4\\\\xb0\\\\xd5\\\\xe7I\\\\t\\\\xfe\\\\x0f\\\\x1b\\\\x8b\\\\xe6+?\\\\xf0m\\\\xa21\\\\\\'\\\\xa7\\\\x81}\\\\xae\\\\xb2\\\\x07\\\\x9d*\\\\x8e\\\\x1aF\\\\xbb\\\\x19\\\\xc5z<\\\\x0eKH\\\\nw\\\\x18\\\\xe1\\\\x86\\\\xb5\\\\xe9\\\\xaf\\\\xeb\\\\xe4\\\\xe6PZ\\\\xdb\\\\x0b\\\\x0bm\\\\x19\\\\x0fq\\\\xd1\\\\x8c %\\\\xd3\\\\xec\\\\xf9\\\\x95\\\\xd1?\\\\xeeE\\\\x1cXa\\\\x8dl\\\\xd2\\\\xda\\\\xf1\\\\xa2\\\\xbe\\\\ti.\\\\x9b\\\\xbe\\\\x12\\\\\\'\\\\xb7\\\\xa1G\\\\xfbR\\\\xfe\\\\\\\\\\\\xef\\\\x86,N33\\\\x89\\\\xcf\\\\xdd\\\\xde\\\\xd3m4\\\\t\\\\x97GE\\\\xb0++\\\\xe4w\\\\x07\\\\xb3\\\\x82\\\\xba\\\\x84\\\\x9a)b\\\\n\\\\xaa\\\\x1f\\\\x06\\\\xdf531aU2-\\\\xeajB\\\\x9dq\\\\x86 \\\\xea\\\\x0eL,\\\\xbc\\\\xb6)\\\\xc1\\\\xf4\\\\r\\\\xf8e\\\\xdbc\\\\xc7\\\\x93$\\\\xf4\\\\x07X\\\\x879\\\\xfa\\\\xdaX\\\\xa7\\\\xf1\\\\\\\\\\\\\\'k\\\\x12\\\\x0f\\\\x1eu\\\\xf7\\\\xbc\\\\x14\\\\xe9\\\\x8c\\\\xdb\\\\x8c\\\\xf9\\\\x88\\\\xb2:\\\\xed\\\\xd8g$$\\\\xa4\\\\x94\\\\xc3\\\\x91\\\\x82\\\\r8\\\\t7p\\\\x96\\\\x12\\\\x84W\\\\xac\\\\xfb0\\\\xabn\\\\xcc+7\\\\xd3V\\\\xc9\\\\x0bQ\\\\xf5\\\\xd4\\\\xc8\\\\xb5m\\\\xf7\\\\xa3uK\\\\xf5\\\\xbf\\\\xe9\\''"
      ]
     },
     "execution_count": 8,
     "metadata": {},
     "output_type": "execute_result"
    }
   ],
   "source": [
    "Obama_ID = \"f9a6fb5d-2c81-40c0-9cb0-e9980d62371c\"\n",
    "\n",
    "import os\n",
    "#for filename in os.listdir('.\\\\Obama'):\n",
    "#    print(filename)\n",
    "\n",
    "image_data = open(\"./obama/IMG_0909_001.jpg\", \"rb\").read()\n",
    "str_data = str(base64.b64decode(image_data))\n",
    "str_data"
   ]
  },
  {
   "cell_type": "code",
   "execution_count": 9,
   "metadata": {},
   "outputs": [
    {
     "name": "stdout",
     "output_type": "stream",
     "text": [
      "{'persistedFaceId': 'a84d0627-c084-48ee-b1f7-1d72dbd71884'}\n"
     ]
    }
   ],
   "source": [
    "def submitPersonImages(person_id, image_data):\n",
    "    # Declare header data\n",
    "    headers = {\n",
    "        # Request headers\n",
    "        'Content-Type': 'application/octet-stream',\n",
    "        'Ocp-Apim-Subscription-Key': FACE_API_KEY1,\n",
    "    }\n",
    "    \n",
    "    # Obtain full URL Path\n",
    "    path = FACE_API_URL + \"/persongroups/%s/persons/%s/persistedFaces\" % (GROUP_NAME, person_id)\n",
    "    \n",
    "    try:\n",
    "        response = requests.post(path, headers=headers, data=image_data)\n",
    "        faces = response.json()\n",
    "        print(faces)\n",
    "    except Exception as e:\n",
    "        print(\"[Errno {0}] {1}\".format(e.errno, e.strerror))\n",
    "    \n",
    "# Loop through Obama picture directory.\n",
    "img_path = './obama/'\n",
    "for filename in os.listdir(img_path):\n",
    "    if filename.endswith('.jpg') or filename.endswith('.jpeg'):\n",
    "        image_data = open(img_path + filename, \"rb\").read()\n",
    "        submitPersonImages(Obama_ID, image_data)"
   ]
  },
  {
   "cell_type": "markdown",
   "metadata": {},
   "source": [
    "# 4. Train Person Group"
   ]
  },
  {
   "cell_type": "code",
   "execution_count": 11,
   "metadata": {},
   "outputs": [
    {
     "name": "stdout",
     "output_type": "stream",
     "text": [
      "b''\n"
     ]
    }
   ],
   "source": [
    "def trainPersonGroup():   \n",
    "    headers = {\n",
    "        # Request headers\n",
    "        'Ocp-Apim-Subscription-Key': FACE_API_KEY1,\n",
    "    }\n",
    "\n",
    "    try:\n",
    "        conn = http.client.HTTPSConnection('eastus2.api.cognitive.microsoft.com')\n",
    "        conn.request(\"POST\", \"/face/v1.0/persongroups/%s/train\" % (GROUP_NAME), \"{body}\", headers)\n",
    "        response = conn.getresponse()\n",
    "        data = response.read()\n",
    "        print(data)\n",
    "        conn.close()\n",
    "    except Exception as e:\n",
    "        print(\"[Errno {0}] {1}\".format(e.errno, e.strerror))\n",
    "    return\n",
    "        \n",
    "trainPersonGroup()"
   ]
  },
  {
   "cell_type": "code",
   "execution_count": null,
   "metadata": {},
   "outputs": [],
   "source": []
  },
  {
   "cell_type": "markdown",
   "metadata": {},
   "source": [
    "# 5. Identify Obama"
   ]
  },
  {
   "cell_type": "code",
   "execution_count": 12,
   "metadata": {},
   "outputs": [],
   "source": [
    "def detectFace(image_data):\n",
    "    # Declare header data\n",
    "    headers = {\n",
    "        # Request headers\n",
    "        'Content-Type': 'application/octet-stream',\n",
    "        'Ocp-Apim-Subscription-Key': FACE_API_KEY1,\n",
    "    }\n",
    "   #detect[?returnFaceId][&returnFaceLandmarks][&returnFaceAttributes]\n",
    "    params = ({\n",
    "        # Request parameters\n",
    "        'returnFaceId': 'true',\n",
    "        'returnFaceLandmarks': 'false',\n",
    "        'returnFaceAttributes': 'emotion',\n",
    "    })\n",
    "    \n",
    "    path = FACE_API_URL + '/detect'\n",
    "    \n",
    "    try:\n",
    "        response = requests.post(path, headers=headers, params=params, data=image_data)\n",
    "        faces = response.json()\n",
    "        #print(faces)\n",
    "        return faces\n",
    "    except Exception as e:\n",
    "        print(\"[Errno {0}] {1}\".format(e.errno, e.strerror))\n",
    "    return None"
   ]
  },
  {
   "cell_type": "code",
   "execution_count": 13,
   "metadata": {},
   "outputs": [],
   "source": [
    "def identifyPerson(face_id):\n",
    "    # Declare header data\n",
    "    headers = {\n",
    "        # Request headers\n",
    "        'Content-Type': 'application/json',\n",
    "        'Ocp-Apim-Subscription-Key': FACE_API_KEY1,\n",
    "    }\n",
    "    \n",
    "    body = {\n",
    "        \"personGroupId\": GROUP_NAME,\n",
    "        \"faceIds\": [face_id],\n",
    "        \"maxNumOfCandidatesReturned\": 1,\n",
    "        \"confidenceThreshold\": 0.5\n",
    "    }\n",
    "    \n",
    "    # Obtain full URL Path\n",
    "    path = FACE_API_URL + \"/identify\"\n",
    "    \n",
    "    try:\n",
    "        response = requests.post(path, headers=headers, data=json.dumps(body))\n",
    "        faces = response.json()\n",
    "        #print(faces)\n",
    "    except Exception as e:\n",
    "        print(\"[Errno {0}] {1}\".format(e.errno, e.strerror))"
   ]
  },
  {
   "cell_type": "code",
   "execution_count": 14,
   "metadata": {},
   "outputs": [
    {
     "name": "stdout",
     "output_type": "stream",
     "text": [
      "([{'faceId': 'c4707421-fe8b-4025-b674-93b09d7989a8', 'faceRectangle': {'top': 74, 'left': 278, 'width': 101, 'height': 101}, 'faceAttributes': {'emotion': {'anger': 0.0, 'contempt': 0.005, 'disgust': 0.0, 'fear': 0.0, 'happiness': 0.026, 'neutral': 0.968, 'sadness': 0.001, 'surprise': 0.0}}}], None)\n"
     ]
    }
   ],
   "source": [
    "def getFaceIdentification(image):\n",
    "    image_data = open(image, \"rb\").read()\n",
    "    face_detection = detectFace(image_data)\n",
    "    face_identity = identifyPerson(face_detection[0]['faceId'])\n",
    "    return face_detection, face_identity\n",
    "    \n",
    "# Loop through Obama picture directory.\n",
    "img_path = './obama/'\n",
    "for filename in os.listdir(img_path):\n",
    "    if filename.endswith('.jpg') or filename.endswith('.jpeg'):\n",
    "        print(getFaceIdentification(img_path + filename))"
   ]
  },
  {
   "cell_type": "code",
   "execution_count": null,
   "metadata": {},
   "outputs": [],
   "source": []
  },
  {
   "cell_type": "code",
   "execution_count": null,
   "metadata": {},
   "outputs": [],
   "source": []
  },
  {
   "cell_type": "code",
   "execution_count": null,
   "metadata": {},
   "outputs": [],
   "source": []
  },
  {
   "cell_type": "code",
   "execution_count": null,
   "metadata": {},
   "outputs": [],
   "source": [
    "#image_folder_path = \"C:\\\\hackathon\\\\voicepassword\\\\IMG_0909\\\\IMG_0909_012.jpg\"\n",
    "#image_data = open(image_path, \"rb\").read()"
   ]
  }
 ],
 "metadata": {
  "kernelspec": {
   "display_name": "Python [conda env:Anaconda]",
   "language": "python",
   "name": "conda-env-Anaconda-py"
  },
  "language_info": {
   "codemirror_mode": {
    "name": "ipython",
    "version": 3
   },
   "file_extension": ".py",
   "mimetype": "text/x-python",
   "name": "python",
   "nbconvert_exporter": "python",
   "pygments_lexer": "ipython3",
   "version": "3.6.5"
  }
 },
 "nbformat": 4,
 "nbformat_minor": 2
}
