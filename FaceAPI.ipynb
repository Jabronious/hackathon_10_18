{
 "cells": [
  {
   "cell_type": "code",
   "execution_count": 21,
   "metadata": {},
   "outputs": [],
   "source": [
    "import requests\n",
    "# If you are using a Jupyter notebook, uncomment the following line.\n",
    "%matplotlib inline\n",
    "import matplotlib.pyplot as plt\n",
    "from PIL import Image\n",
    "from matplotlib import patches\n",
    "from io import BytesIO\n",
    "\n",
    "\n",
    "import http.client, urllib.request, urllib.parse, urllib.error, base64"
   ]
  },
  {
   "cell_type": "code",
   "execution_count": 46,
   "metadata": {},
   "outputs": [],
   "source": [
    "# Define General Global Variables\n",
    "GROUP_NAME = \"hackathon_atl\"\n",
    "\n",
    "# Define Face-API Specific Global Variables\n",
    "FACE_API_KEY1 = \"2d697fcd49e34ceaacce26f321034221\"\n",
    "FACE_API_URL = 'https://eastus2.api.cognitive.microsoft.com/face/v1.0'\n",
    "HEADERS = {\n",
    "    'Ocp-Apim-Subscription-Key': FACE_API_KEY1,\n",
    "    'Content-Type': 'application/octet-stream'\n",
    "}\n",
    "PARAMS = {\n",
    "    'returnFaceId': 'true',\n",
    "    'returnFaceLandmarks': 'true',\n",
    "    'returnFaceAttributes': 'age,gender,headPose,smile,facialHair,glasses,' +\n",
    "    'emotion,hair,makeup,occlusion,accessories,blur,exposure,noise'\n",
    "}"
   ]
  },
  {
   "cell_type": "markdown",
   "metadata": {},
   "source": [
    "# 1. Create the Person Group"
   ]
  },
  {
   "cell_type": "code",
   "execution_count": 23,
   "metadata": {},
   "outputs": [],
   "source": [
    "def createPersonGroup():\n",
    "    HEADERS = {\n",
    "        'Content-Type': 'application/json',\n",
    "        'Ocp-Apim-Subscription-Key': FACE_API_KEY1,\n",
    "    }\n",
    "    PARAMS = urllib.parse.urlencode({\n",
    "        'personGroupId': GROUP_NAME\n",
    "    })\n",
    "    BODY = '{\"name\": \"%s\"}' % GROUP_NAME\n",
    "\n",
    "    try:\n",
    "        conn = http.client.HTTPSConnection('eastus2.api.cognitive.microsoft.com')\n",
    "        conn.request(\"PUT\", \"/face/v1.0/persongroups/{%s}?%s\" % (GROUP_NAME, PARAMS), \"%s\" % (BODY), HEADERS)\n",
    "        response = conn.getresponse()\n",
    "        data = response.read()\n",
    "        print(data)\n",
    "        conn.close()\n",
    "    except Exception as e:\n",
    "        print(\"[Errno {0}] {1}\".format(e.errno, e.strerror))"
   ]
  },
  {
   "cell_type": "markdown",
   "metadata": {},
   "source": [
    "# 2. Insert People into Person Group"
   ]
  },
  {
   "cell_type": "code",
   "execution_count": 28,
   "metadata": {},
   "outputs": [
    {
     "name": "stdout",
     "output_type": "stream",
     "text": [
      "b'{\"personId\":\"f9a6fb5d-2c81-40c0-9cb0-e9980d62371c\"}'\n"
     ]
    }
   ],
   "source": [
    "def insertPersonIntoGroup(person_name, group_name):\n",
    "    HEADERS = {\n",
    "        'Content-Type': 'application/json',\n",
    "        'Ocp-Apim-Subscription-Key': FACE_API_KEY1,\n",
    "    }\n",
    "    \n",
    "    PARAMS = urllib.parse.urlencode({\n",
    "        'personGroupId': group_name\n",
    "    })\n",
    "    \n",
    "    BODY = '{\"name\":\"%s\"}' % (person_name)\n",
    "    \n",
    "    try:\n",
    "        conn = http.client.HTTPSConnection('eastus2.api.cognitive.microsoft.com')\n",
    "        conn.request(\"POST\", \"/face/v1.0/persongroups/{%s}/persons?%s\" % (group_name, PARAMS), \"%s\" % (BODY), HEADERS)\n",
    "        response = conn.getresponse()\n",
    "        data = response.read()\n",
    "        print(data)\n",
    "        conn.close()\n",
    "        return data\n",
    "    except Exception as e:\n",
    "        print(\"[Errno {0}] {1}\".format(e.errno, e.strerror))\n",
    "    return None\n",
    "    \n",
    "insertPersonIntoGroup(\"Obama\", GROUP_NAME)"
   ]
  },
  {
   "cell_type": "markdown",
   "metadata": {},
   "source": [
    "# 3. Submit Images to Train Face On"
   ]
  },
  {
   "cell_type": "code",
   "execution_count": 50,
   "metadata": {},
   "outputs": [],
   "source": [
    "Obama_ID = \"f9a6fb5d-2c81-40c0-9cb0-e9980d62371c\"\n",
    "\n",
    "#import os\n",
    "#for filename in os.listdir('.\\\\Obama'):\n",
    "#    print(filename)\n",
    "\n",
    "#image_data = open(\".\\\\Obama\\\\barack-obama.jpeg\", \"rb\").read()\n",
    "#print(image_data)\n",
    "#str_data = base64.b64decode(image_data)\n",
    "#str_data"
   ]
  },
  {
   "cell_type": "code",
   "execution_count": 49,
   "metadata": {},
   "outputs": [
    {
     "name": "stdout",
     "output_type": "stream",
     "text": [
      "{'error': {'code': 'ResourceNotFound', 'message': 'The requested resource was not found.'}}\n",
      "{'error': {'code': 'ResourceNotFound', 'message': 'The requested resource was not found.'}}\n",
      "{'error': {'code': 'ResourceNotFound', 'message': 'The requested resource was not found.'}}\n",
      "{'error': {'code': 'ResourceNotFound', 'message': 'The requested resource was not found.'}}\n"
     ]
    }
   ],
   "source": [
    "def submitPersonImages1(person_id, group_id, image_data):\n",
    "    # Declare header data\n",
    "    headers = {\n",
    "        # Request headers\n",
    "        'Content-Type': 'application/octet-stream',\n",
    "        'Ocp-Apim-Subscription-Key': FACE_API_KEY1,\n",
    "    }\n",
    "\n",
    "    # Declare parameters\n",
    "    params = {\n",
    "        'personGroupId': group_id,\n",
    "        'personId': person_id\n",
    "    }\n",
    "    \n",
    "    # Obtain full URL Path\n",
    "    path = \"/persistedFaces\"\n",
    "    \n",
    "    try:\n",
    "        response = requests.post(FACE_API_URL+path, params=params, headers=headers, data=image_data)\n",
    "        faces = response.json()\n",
    "        print(faces)\n",
    "    except Exception as e:\n",
    "        print(\"[Errno {0}] {1}\".format(e.errno, e.strerror))\n",
    "        \n",
    "        \n",
    "\n",
    "def submitPersonImages1(person_id, group_id, image_data):\n",
    "    headers = {\n",
    "        # Request headers\n",
    "        'Content-Type': 'application/octet-stream',\n",
    "        'Ocp-Apim-Subscription-Key': FACE_API_KEY1,\n",
    "    }\n",
    "\n",
    "    params = urllib.parse.urlencode({})\n",
    "\n",
    "    try:\n",
    "        conn = http.client.HTTPSConnection('eastus2.api.cognitive.microsoft.com')\n",
    "        conn.request(\"POST\", \"/face/v1.0/persongroups/{%s}/persons/{%s}/persistedFaces?%s\" % (group_id, person_id, params), \"{body}\", headers)\n",
    "        response = conn.getresponse()\n",
    "        data = response.read()\n",
    "        print(data)\n",
    "        conn.close()\n",
    "    except Exception as e:\n",
    "        print(\"[Errno {0}] {1}\".format(e.errno, e.strerror))\n",
    "    \n",
    "# Loop through Obama picture directory.\n",
    "for filename in os.listdir('.\\\\Obama'):\n",
    "    if filename.endswith('.jpg') or filename.endswith('.jpeg'):\n",
    "        image_data = open('.\\\\Obama\\\\' + filename, \"rb\").read()\n",
    "        submitPersonImages(Obama_ID, GROUP_NAME, image_data)\n",
    "        "
   ]
  },
  {
   "cell_type": "code",
   "execution_count": null,
   "metadata": {},
   "outputs": [],
   "source": []
  },
  {
   "cell_type": "code",
   "execution_count": null,
   "metadata": {},
   "outputs": [],
   "source": []
  },
  {
   "cell_type": "code",
   "execution_count": null,
   "metadata": {},
   "outputs": [],
   "source": [
    "#image_folder_path = \"C:\\\\hackathon\\\\voicepassword\\\\IMG_0909\\\\IMG_0909_012.jpg\"\n",
    "#image_data = open(image_path, \"rb\").read()"
   ]
  }
 ],
 "metadata": {
  "kernelspec": {
   "display_name": "Python [conda env:Anaconda]",
   "language": "python",
   "name": "conda-env-Anaconda-py"
  },
  "language_info": {
   "codemirror_mode": {
    "name": "ipython",
    "version": 3
   },
   "file_extension": ".py",
   "mimetype": "text/x-python",
   "name": "python",
   "nbconvert_exporter": "python",
   "pygments_lexer": "ipython3",
   "version": "3.6.5"
  }
 },
 "nbformat": 4,
 "nbformat_minor": 2
}
